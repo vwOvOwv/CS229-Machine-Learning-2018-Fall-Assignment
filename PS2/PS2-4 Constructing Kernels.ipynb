{
 "cells": [
  {
   "cell_type": "markdown",
   "id": "d070a94a",
   "metadata": {},
   "source": [
    "# PS2-4 Constrcuting Kernels"
   ]
  },
  {
   "cell_type": "markdown",
   "id": "609e4c6c",
   "metadata": {},
   "source": [
    "From Mercer's theorem, we know kernel matrices $K_1$, $K_2$ and $K_3$ are PSD."
   ]
  },
  {
   "cell_type": "markdown",
   "id": "c7aee138",
   "metadata": {},
   "source": [
    "### (a) $K(x,z)=K_1(x,z)+K_2(x,z)$"
   ]
  },
  {
   "cell_type": "markdown",
   "id": "629b8458",
   "metadata": {},
   "source": [
    "$K(x,z)$ is a valid kernel.\n",
    "\n",
    "$K$ is symmetric since\n",
    "   $$K_{ij}=K(x^{(i)},x^{(j)}) = K_1(x^{(i)},x^{(j)}) + K_2(x^{(i)},x^{(j)}) = K_1(x^{(j)},x^{(i)}) + K_2(x^{(j)},x^{(i)}) = K_{ji}$$\n",
    "\n",
    "$\\forall u\\in\\mathbb{R}^m$, since $K=K_1+K_2$,\n",
    "    $$u^TKu = u^TK_1u + u^TK_2u \\geq 0$$\n",
    "\n",
    "Therefore, $K$ is PSD for any $\\{x^{(1)}, x^{(2)}, \\dots, x^{(m)}\\}$ and thus a valid kernel."
   ]
  },
  {
   "cell_type": "markdown",
   "id": "f572caa7",
   "metadata": {},
   "source": [
    "### (b) $K(x,z)=K_1(x,z) - K_2(x,z)$"
   ]
  },
  {
   "cell_type": "markdown",
   "id": "9c4cc397",
   "metadata": {},
   "source": [
    "$K(x,z)$ is not a valid kernel because $K=K_1-K_2$ is symmetric but not necessarily PSD.\n",
    "\n",
    "Counter-example: when $K_1-K_2=I$, and $u\\in\\mathbb R^m$ is a column vector whose entries are all negative. "
   ]
  },
  {
   "cell_type": "markdown",
   "id": "29b5a319",
   "metadata": {},
   "source": [
    "### (c) $K(x,z)=aK_1(x,z)$"
   ]
  },
  {
   "cell_type": "markdown",
   "id": "a0c82b4f",
   "metadata": {},
   "source": [
    "$K(x,z)$ is a valid kernel.\n",
    "\n",
    "$K=aK_1$ is symmetric since\n",
    "\n",
    "$$K_{ij}=aK_{1,ij}=aK_{1,ji}=K_{ji}$$\n",
    "\n",
    "$\\forall u\\in\\mathbb R^m$,\n",
    "\n",
    "$$u^TKu=u^T(aK_1)u=a(u^TK_1u)\\ge0$$\n",
    "\n",
    "Therefore, $K$ is PSD and thus K(x,z) is a valid kernel."
   ]
  },
  {
   "cell_type": "markdown",
   "id": "30be276a",
   "metadata": {},
   "source": [
    "### (d) $K(x,z)=-aK_1(x,z)$"
   ]
  },
  {
   "cell_type": "markdown",
   "id": "4ce05874",
   "metadata": {},
   "source": [
    "$K(x,z)$ is not a valid kernel because $K=-aK_1$ is NSD rather than PSD.\n",
    "\n",
    "Counter-example: any $K(x,z)=-aK_1(x,z)$."
   ]
  },
  {
   "cell_type": "markdown",
   "id": "de6ff854",
   "metadata": {},
   "source": [
    "### (e) $K(x,z)=K_1(x,z)K_2(x,z)$"
   ]
  },
  {
   "cell_type": "markdown",
   "id": "bf2cdf63",
   "metadata": {},
   "source": [
    "$K(x,z)$ is a valid kernel.\n",
    "\n",
    "$K=K_1\\odot K_2$ ($\\odot$ denotes Hadamard product) is symmetric:\n",
    "\n",
    "$$K_{ij}=K_1(x^{(i)},x^{(j)})K_2(x^{(i)},x^{(j)})=K_1(x^{(j)},x^{(i)})K_2(x^{(j)},x^{(i)})=K_{ji}$$\n",
    "\n",
    "$\\forall u\\in \\mathbb{R}^m$, and let $u=[u_1, u_2, \\dots, u_m]^T$, then\n",
    "\n",
    "\\begin{align*}\n",
    "u^TKu &= \\begin{bmatrix}\\sum_{i=1}^m u_iK_{i1},\\sum_{i=1}^m u_iK_{i2},\\dots,\n",
    "\\sum_{i=1}^m u_iK_{im}\n",
    "\\end{bmatrix}\\begin{bmatrix}u_1\\\\ u_2\\\\ \\vdots\\\\ u_m\\end{bmatrix}\\\\\n",
    "&=\\sum_{j=1}^m\\sum_{i=1}^m u_iK_{ij}u_j\\\\\n",
    "&=\\sum_{i=1}^m\\sum_{j=1}^m u_iK_{1,ij}K_{2,ij}u_j\\\\\n",
    "&=\\sum_{i=1}^m\\sum_{j=1}^m u_iK_1(x^{(i)},x^{(j)})K_2(x^{(i)},x^{(j)})u_j\\\\\n",
    "\\end{align*}\n",
    "\n",
    "Let $K_1(x^{(i)},x^{(j)})=\\phi_1(x^{(i)})^T\\phi_1(x^{(j)})$, and $K_2(x^{(i)},x^{(j)})=\\phi_2(x^{(i)})^T\\phi_2(x^{(j)})$, then\n",
    "\n",
    "\\begin{align*}\n",
    "u^TKu &= \\sum_{i=1}^m\\sum_{j=1}^m u_i\\phi_1(x^{(i)})^T\\phi_1(x^{(j)})\\phi_2(x^{(i)})^T\\phi_2(x^{(j)})u_j\\\\\n",
    "&= \\sum_{i=1}^m\\sum_{j=1}^m u_i \\sum_{k=1}^{n} (\\phi_1(x^{(i)}))_k(\\phi_1(x^{(j)}))_k\\sum_{l=1}^{n} (\\phi_2(x^{(i)}))_l(\\phi_2(x^{(j)}))_l u_j\\\\\n",
    "&= \\sum_{i=1}^m\\sum_{j=1}^m\\sum_{k=1}^{n}\\sum_{l=1}^{n} \\left[u_i(\\phi_1(x^{(i)}))_k(\\phi_2(x^{(i)}))_l\\right]\\left[u_j(\\phi_1(x^{(j)}))_k(\\phi_2(x^{(j)}))_l\\right]\\\\\n",
    "&= \\sum_{k=1}^{n}\\sum_{l=1}^{n} \\left[\\sum_{i=1}^mu_i(\\phi_1(x^{(i)}))_k(\\phi_2(x^{(i)}))_l\\right]\\left[\\sum_{j=1}^mu_j(\\phi_1(x^{(j)}))_k(\\phi_2(x^{(j)}))_l\\right]\\\\\n",
    "&= \\sum_{k=1}^{n}\\sum_{l=1}^{n}\\left[\\sum_{i=1}^mu_i(\\phi_1(x^{(i)}))_k(\\phi_2(x^{(i)}))_l\\right]^2 \\ge0\n",
    "\\end{align*}\n",
    "\n",
    "Therefore, $K$ is PSD and thus a valid kernel."
   ]
  },
  {
   "cell_type": "markdown",
   "id": "39d95a84",
   "metadata": {},
   "source": [
    "### (f) $K(x,z) = f(x)f(z)$"
   ]
  },
  {
   "cell_type": "markdown",
   "id": "6f1f3998",
   "metadata": {},
   "source": [
    "$K(x,z)$ is a valid kernel.\n",
    "\n",
    "$K$ is symmetric since\n",
    "\n",
    "$$K_{ij}=f(x^{(i)})f(x^{(j)})=f(x^{(j)})f(x^{(i)})=K_{ji}$$\n",
    "\n",
    "$\\forall u\\in \\mathbb{R}^m$, and let $u=[u_1, u_2, \\dots, u_m]^T$, then\n",
    "\n",
    "\\begin{align*}\n",
    "u^TKu \n",
    "&=\\sum_{j=1}^m\\sum_{i=1}^m u_iK_{ij}u_j\\\\\n",
    "&=\\sum_{j=1}^m\\sum_{i=1}^m u_if(x^{(i)})f(x^{(j)})u_j\\\\\n",
    "&=\\left[\\sum_{i=1}^mu_if(x^{(i)})\\right]^2 \\ge0\n",
    "\\end{align*}\n",
    "\n",
    "Therefore, $K$ is PSD and thus a valid kernel."
   ]
  },
  {
   "cell_type": "markdown",
   "id": "75f8eea0",
   "metadata": {},
   "source": [
    "### (g) $K(x,z)=K_3(\\phi(x),\\phi(z))$"
   ]
  },
  {
   "cell_type": "markdown",
   "id": "dd66e5bc",
   "metadata": {},
   "source": [
    "$K(x,z)$ is a valid kernel.\n",
    "\n",
    "$K$ is symmetric since\n",
    "\n",
    "$$K_{ij}=K_3(\\phi(x^{(i)}), \\phi(x^{(j)}))=K_3(\\phi(x^{(j)}), \\phi(x^{(i)}))=K_{ji}$$\n",
    "\n",
    "$\\forall u\\in \\mathbb{R}^m$, and let $u=[u_1, u_2, \\dots, u_m]^T$, then\n",
    "\n",
    "\\begin{align*}\n",
    "u^TKu \n",
    "&=\\sum_{j=1}^m\\sum_{i=1}^m u_iK_{ij}u_j\\\\\n",
    "&=\\sum_{j=1}^m\\sum_{i=1}^m u_iK_3(\\phi(x^{(i)}), \\phi(x^{(j)}))u_j\\\\\n",
    "&=\\sum_{j=1}^m\\sum_{i=1}^m u_i\\phi(x^{(i)})^T\\phi(x^{(j)})u_j\\\\\n",
    "&=\\sum_{i=1}^m\\sum_{j=1}^m u_i\\left[\\sum_{k=1}^d\\phi(x^{(i)})_d\\phi(x^{(j)})_d\\right]u_j\\\\\n",
    "&=\\sum_{i=1}^m\\sum_{j=1}^m\\sum_{k=1}^d u_i\\phi(x^{(i)})_d\\phi(x^{(j)})_du_j\\\\\n",
    "&=\\sum_{k=1}^d\\left [\\sum_{i=1}^mu_i\\phi(x^{(i)})_d\\right]^2 \\ge 0\n",
    "\\end{align*}\n",
    "\n",
    "Therefore, $K$ is PSD and thus a valid kernel."
   ]
  },
  {
   "cell_type": "markdown",
   "id": "fc52b159",
   "metadata": {},
   "source": [
    "### (h) $K(x,z)=p(K_1(x,z))$"
   ]
  },
  {
   "cell_type": "markdown",
   "id": "f4807479",
   "metadata": {},
   "source": [
    "$K(x,z)$ is a valid kernel.\n",
    "\n",
    "$K$ is symmetric since\n",
    "\n",
    "$$K_{ij}=p(K_1(x^{(i)}, x^{(j)}))=p(K_1(x^{(j)}, x^{(i)}))=K_{ji}$$\n",
    "\n",
    "$\\forall u\\in \\mathbb{R}^m$, and let $u=[u_1, u_2, \\dots, u_m]^T$, then\n",
    "\n",
    "\\begin{align*}\n",
    "u^TKu \n",
    "&=\\sum_{j=1}^m\\sum_{i=1}^m u_iK_{ij}u_j\\\\\n",
    "&=\\sum_{i=1}^m\\sum_{j=1}^m u_ip(K_1(x^{(i)}, x^{(j)}))u_j\n",
    "\\end{align*}\n",
    "\n",
    "Let $p=\\sum_{k=0}^r c_kx^k, c_k\\ge0, c_r > 0$ and from (e) we know $K_1(x, z)^k$ is a valid kernel and thus PSD, then\n",
    "\n",
    "\\begin{align*}\n",
    "u^TKu \n",
    "&=\\sum_{i=1}^m\\sum_{j=1}^m u_i\\sum_{k=0}^rc_kK_1(x^{(i)}, x^{(j)})^ku_j\\\\\n",
    "&=\\sum_{k=0}^r c_k\\sum_{i=1}^m\\sum_{j=1}^mu_iK_1(x^{(i)}, x^{(j)})^ku_j\\ge 0\n",
    "\\end{align*}\n",
    "\n",
    "Therefore, $K$ is PSD and thus a valid kernel."
   ]
  }
 ],
 "metadata": {
  "language_info": {
   "name": "python"
  }
 },
 "nbformat": 4,
 "nbformat_minor": 5
}
