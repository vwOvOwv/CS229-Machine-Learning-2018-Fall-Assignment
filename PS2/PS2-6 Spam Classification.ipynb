{
 "cells": [
  {
   "cell_type": "markdown",
   "id": "e4f59635",
   "metadata": {},
   "source": [
    "# PS2-6 Spam Classification"
   ]
  },
  {
   "cell_type": "code",
   "execution_count": null,
   "id": "ade91e43",
   "metadata": {},
   "outputs": [],
   "source": [
    "import numpy as np\n",
    "import src.util as util\n",
    "import src.svm as svm"
   ]
  },
  {
   "cell_type": "markdown",
   "id": "54793a0b",
   "metadata": {},
   "source": [
    "### (a) Data Preprocessing"
   ]
  },
  {
   "cell_type": "code",
   "execution_count": 2,
   "id": "e860d701",
   "metadata": {},
   "outputs": [],
   "source": [
    "def get_words(message):\n",
    "    \"\"\"Get the normalized list of words from a message string.\n",
    "\n",
    "    This function should split a message into words, normalize them, and return\n",
    "    the resulting list. For splitting, you should split on spaces. For normalization,\n",
    "    you should convert everything to lowercase.\n",
    "\n",
    "    Args:\n",
    "        message: A string containing an SMS message\n",
    "\n",
    "    Returns:\n",
    "       The list of normalized words from the message.\n",
    "    \"\"\"\n",
    "\n",
    "    # *** START CODE HERE ***\n",
    "    return [word.lower() for word in message.split(' ')]\n",
    "    # *** END CODE HERE ***\n",
    "\n",
    "\n",
    "def create_dictionary(messages):\n",
    "    \"\"\"Create a dictionary mapping words to integer indices.\n",
    "\n",
    "    This function should create a dictionary of word to indices using the provided\n",
    "    training messages. Use get_words to process each message. \n",
    "\n",
    "    Rare words are often not useful for modeling. Please only add words to the dictionary\n",
    "    if they occur in at least five messages.\n",
    "\n",
    "    Args:\n",
    "        messages: A list of strings containing SMS messages\n",
    "\n",
    "    Returns:\n",
    "        A python dict mapping words to integers.\n",
    "    \"\"\"\n",
    "\n",
    "    # *** START CODE HERE ***\n",
    "    word_count = {}\n",
    "    for message in messages:\n",
    "        words = set(get_words(message)) # use set to avoid counting duplicates in the same message\n",
    "        for word in words:\n",
    "            if word not in word_count:\n",
    "                word_count[word] = 0\n",
    "            word_count[word] += 1\n",
    "    # print(word_count)\n",
    "    word_dictionary = {}\n",
    "    index = 0\n",
    "    for word, count in word_count.items():\n",
    "        if count >= 5:\n",
    "            word_dictionary[word] = index\n",
    "            index += 1\n",
    "    return word_dictionary\n",
    "    # *** END CODE HERE ***\n",
    "\n",
    "\n",
    "def transform_text(messages, word_dictionary):\n",
    "    \"\"\"Transform a list of text messages into a numpy array for further processing.\n",
    "\n",
    "    This function should create a numpy array that contains the number of times each word\n",
    "    appears in each message. Each row in the resulting array should correspond to each \n",
    "    message and each column should correspond to a word.\n",
    "\n",
    "    Use the provided word dictionary to map words to column indices. Ignore words that \n",
    "    are not present in the dictionary. Use get_words to get the words for a message.\n",
    "\n",
    "    Args:\n",
    "        messages: A list of strings where each string is an SMS message.\n",
    "        word_dictionary: A python dict mapping words to integers.\n",
    "\n",
    "    Returns:\n",
    "        A numpy array marking the words present in each message.\n",
    "    \"\"\"\n",
    "    # *** START CODE HERE ***\n",
    "    num_messages = len(messages)\n",
    "    num_words = len(word_dictionary)\n",
    "    word_array = np.zeros((num_messages, num_words))\n",
    "\n",
    "    for row_index, message in enumerate(messages):\n",
    "        words = get_words(message)\n",
    "        for word in words:\n",
    "            if word in word_dictionary:\n",
    "                col_index = word_dictionary[word]\n",
    "                word_array[row_index, col_index] += 1\n",
    "\n",
    "    return word_array\n",
    "    # *** END CODE HERE ***"
   ]
  },
  {
   "cell_type": "code",
   "execution_count": 3,
   "id": "5919f96a",
   "metadata": {},
   "outputs": [],
   "source": [
    "train_messages, train_labels = util.load_spam_dataset('./data/ds6_train.tsv')\n",
    "val_messages, val_labels = util.load_spam_dataset('./data/ds6_val.tsv')\n",
    "test_messages, test_labels = util.load_spam_dataset('./data/ds6_test.tsv')"
   ]
  },
  {
   "cell_type": "code",
   "execution_count": 4,
   "id": "53b2e585",
   "metadata": {},
   "outputs": [],
   "source": [
    "dictionary = create_dictionary(train_messages)\n",
    "\n",
    "util.write_json('./output/p06_dictionary', dictionary)\n",
    "\n",
    "train_matrix = transform_text(train_messages, dictionary)\n",
    "\n",
    "np.savetxt('./output/p06_sample_train_matrix', train_matrix[:100,:])\n",
    "\n",
    "val_matrix = transform_text(val_messages, dictionary)\n",
    "test_matrix = transform_text(test_messages, dictionary)"
   ]
  },
  {
   "cell_type": "markdown",
   "id": "3c8eb1c2",
   "metadata": {},
   "source": [
    "### (b) Implement Naive Bayes Classifier"
   ]
  },
  {
   "cell_type": "code",
   "execution_count": 5,
   "id": "355000d9",
   "metadata": {},
   "outputs": [],
   "source": [
    "def fit_naive_bayes_model(matrix, labels):\n",
    "    \"\"\"Fit a naive bayes model.\n",
    "\n",
    "    This function should fit a Naive Bayes model given a training matrix and labels.\n",
    "\n",
    "    The function should return the state of that model.\n",
    "\n",
    "    Feel free to use whatever datatype you wish for the state of the model.\n",
    "\n",
    "    Args:\n",
    "        matrix: A numpy array containing word counts for the training data\n",
    "        labels: The binary (0 or 1) labels for that training data\n",
    "\n",
    "    Returns: The trained model\n",
    "    \"\"\"\n",
    "\n",
    "    # *** START CODE HERE ***\n",
    "    vocab_size = matrix.shape[1]\n",
    "    spam = matrix[labels == 1, :]\n",
    "    non_spam = matrix[labels == 0, :]\n",
    "\n",
    "    # Prob. of words occurring in messages in each class can be modeled \n",
    "    # as a multinomial distribution Mult(vocab_size, phi_k_y*).\n",
    "    # E.g., phi_k_y1 represents the prob. of word k occurring in spam messages.\n",
    "    phi_k_y1 = (spam.sum(axis=0) + 1) / (spam.sum() + vocab_size)   # Laplace smoothing\n",
    "    phi_k_y0 = (non_spam.sum(axis=0) + 1) / (non_spam.sum() + vocab_size)   # Laplace smoothing\n",
    "    phi_y1 = np.mean(labels)\n",
    "\n",
    "    return (phi_k_y1, phi_k_y0, phi_y1)\n",
    "    # *** END CODE HERE ***"
   ]
  },
  {
   "cell_type": "code",
   "execution_count": 6,
   "id": "a0335537",
   "metadata": {},
   "outputs": [],
   "source": [
    "naive_bayes_model = fit_naive_bayes_model(train_matrix, train_labels)"
   ]
  },
  {
   "cell_type": "code",
   "execution_count": null,
   "id": "be57f652",
   "metadata": {},
   "outputs": [],
   "source": [
    "def predict_from_naive_bayes_model(model, matrix):\n",
    "    \"\"\"Use a Naive Bayes model to compute predictions for a target matrix.\n",
    "\n",
    "    This function should be able to predict on the models that fit_naive_bayes_model\n",
    "    outputs.\n",
    "\n",
    "    Args:\n",
    "        model: A trained model from fit_naive_bayes_model\n",
    "        matrix: A numpy array containing word counts\n",
    "\n",
    "    Returns: A numpy array containg the predictions from the model\n",
    "    \"\"\"\n",
    "    # *** START CODE HERE ***\n",
    "    phi_k_y1, phi_k_y0, phi_y1 = model\n",
    "    log_phi_k_y1 = np.log(phi_k_y1)\n",
    "    log_phi_k_y0 = np.log(phi_k_y0)\n",
    "    log_phi_y1 = np.log(phi_y1)\n",
    "    log_phi_y0 = np.log(1 - phi_y1)\n",
    "\n",
    "    # use dot product to measure distribution similarity\n",
    "    # do not need to compute prob explicitly.\n",
    "    score_y1 = np.sum(matrix * log_phi_k_y1, axis=1) + log_phi_y1\n",
    "    score_y0 = np.sum(matrix * log_phi_k_y0, axis=1) + log_phi_y0\n",
    "    return score_y1 > score_y0\n",
    "    # *** END CODE HERE ***"
   ]
  },
  {
   "cell_type": "code",
   "execution_count": 29,
   "id": "6b0987d0",
   "metadata": {},
   "outputs": [
    {
     "name": "stdout",
     "output_type": "stream",
     "text": [
      "Naive Bayes had an accuracy of 0.978494623655914 on the testing set\n"
     ]
    }
   ],
   "source": [
    "naive_bayes_predictions = predict_from_naive_bayes_model(naive_bayes_model, test_matrix)\n",
    "np.savetxt('./output/p06_naive_bayes_predictions', naive_bayes_predictions)\n",
    "naive_bayes_accuracy = np.mean(naive_bayes_predictions == test_labels)\n",
    "print('Naive Bayes had an accuracy of {} on the testing set'.format(naive_bayes_accuracy))"
   ]
  },
  {
   "cell_type": "markdown",
   "id": "fd8dda17",
   "metadata": {},
   "source": [
    "### (c) Check Indicative Words"
   ]
  },
  {
   "cell_type": "code",
   "execution_count": null,
   "id": "034424f2",
   "metadata": {},
   "outputs": [],
   "source": [
    "def get_top_five_naive_bayes_words(model, dictionary):\n",
    "    \"\"\"Compute the top five words that are most indicative of the spam (i.e positive) class.\n",
    "\n",
    "    Ues the metric given in 6c as a measure of how indicative a word is.\n",
    "    Return the words in sorted form, with the most indicative word first.\n",
    "\n",
    "    Args:\n",
    "        model: The Naive Bayes model returned from fit_naive_bayes_model\n",
    "        dictionary: A mapping of word to integer ids\n",
    "\n",
    "    Returns: The top five most indicative words in sorted order with the most indicative first\n",
    "    \"\"\"\n",
    "    # *** START CODE HERE ***\n",
    "    phi_k_y1, phi_k_y0, _ = model\n",
    "    score = np.log(phi_k_y1 / phi_k_y0)\n",
    "    reversed_dictionary = {v: k for k, v in dictionary.items()}\n",
    "\n",
    "    top_five_idx = np.argsort(-score)[:5]   # in descending order\n",
    "    return [reversed_dictionary[idx] for idx in top_five_idx]\n",
    "    # *** END CODE HERE ***"
   ]
  },
  {
   "cell_type": "code",
   "execution_count": 35,
   "id": "0660395f",
   "metadata": {},
   "outputs": [
    {
     "name": "stdout",
     "output_type": "stream",
     "text": [
      "The top 5 indicative words for Naive Bayes are:  ['claim', 'won', 'prize', 'tone', 'urgent!']\n"
     ]
    }
   ],
   "source": [
    "top_5_words = get_top_five_naive_bayes_words(naive_bayes_model, dictionary)\n",
    "print('The top 5 indicative words for Naive Bayes are: ', top_5_words)\n",
    "util.write_json('./output/p06_top_indicative_words', top_5_words)"
   ]
  },
  {
   "cell_type": "markdown",
   "id": "0b0c5f7a",
   "metadata": {},
   "source": [
    "### (d) Find Best RBF kernel for SVM"
   ]
  },
  {
   "cell_type": "code",
   "execution_count": 38,
   "id": "399b5267",
   "metadata": {},
   "outputs": [],
   "source": [
    "def compute_best_svm_radius(train_matrix, train_labels, val_matrix, val_labels, radius_to_consider):\n",
    "    \"\"\"Compute the optimal SVM radius using the provided training and evaluation datasets.\n",
    "\n",
    "    You should only consider radius values within the radius_to_consider list.\n",
    "    You should use accuracy as a metric for comparing the different radius values.\n",
    "\n",
    "    Args:\n",
    "        train_matrix: The word counts for the training data\n",
    "        train_labels: The spma or not spam labels for the training data\n",
    "        val_matrix: The word counts for the validation data\n",
    "        val_labels: The spam or not spam labels for the validation data\n",
    "        radius_to_consider: The radius values to consider\n",
    "    \n",
    "    Returns:\n",
    "        The best radius which maximizes SVM accuracy.\n",
    "    \"\"\"\n",
    "    # *** START CODE HERE ***\n",
    "    best_acc = -1\n",
    "    best_radius = None\n",
    "    for radius in radius_to_consider:\n",
    "        svm_pred = svm.train_and_predict_svm(train_matrix, train_labels, val_matrix, radius)\n",
    "        acc = (svm_pred == val_labels).mean()\n",
    "        if acc > best_acc:\n",
    "            best_acc = acc\n",
    "            best_radius = radius\n",
    "    return best_radius\n",
    "    # *** END CODE HERE ***"
   ]
  },
  {
   "cell_type": "code",
   "execution_count": 39,
   "id": "8c4c79eb",
   "metadata": {},
   "outputs": [
    {
     "name": "stdout",
     "output_type": "stream",
     "text": [
      "The optimal SVM radius was 0.1\n",
      "The SVM model had an accuracy of 0.9695340501792115 on the testing set\n"
     ]
    }
   ],
   "source": [
    "optimal_radius = compute_best_svm_radius(train_matrix, train_labels, val_matrix, val_labels, [0.01, 0.1, 1, 10])\n",
    "util.write_json('./output/p06_optimal_radius', optimal_radius)\n",
    "print('The optimal SVM radius was {}'.format(optimal_radius))\n",
    "svm_predictions = svm.train_and_predict_svm(train_matrix, train_labels, test_matrix, optimal_radius)\n",
    "svm_accuracy = np.mean(svm_predictions == test_labels)\n",
    "print('The SVM model had an accuracy of {} on the testing set'.format(svm_accuracy, optimal_radius))"
   ]
  }
 ],
 "metadata": {
  "kernelspec": {
   "display_name": "ann_snn_ei",
   "language": "python",
   "name": "python3"
  },
  "language_info": {
   "codemirror_mode": {
    "name": "ipython",
    "version": 3
   },
   "file_extension": ".py",
   "mimetype": "text/x-python",
   "name": "python",
   "nbconvert_exporter": "python",
   "pygments_lexer": "ipython3",
   "version": "3.12.10"
  }
 },
 "nbformat": 4,
 "nbformat_minor": 5
}
