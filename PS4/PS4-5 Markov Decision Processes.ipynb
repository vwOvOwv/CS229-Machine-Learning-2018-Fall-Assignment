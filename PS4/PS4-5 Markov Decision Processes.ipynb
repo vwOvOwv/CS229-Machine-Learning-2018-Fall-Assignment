{
 "cells": [
  {
   "cell_type": "markdown",
   "id": "dbd18198",
   "metadata": {},
   "source": [
    "# PS4-5 Markov Decision Processes"
   ]
  },
  {
   "cell_type": "markdown",
   "id": "4ae63099",
   "metadata": {},
   "source": [
    "### (a) Bellman update operator is a $\\gamma$-contraction in the max-norm."
   ]
  },
  {
   "cell_type": "markdown",
   "id": "0f801a60",
   "metadata": {},
   "source": [
    "\\begin{align*}\n",
    "||B(V_1)-B(V_2)||_\\infty&=\\max_{s\\in S}|V_1'(s)-V_2'(s)|\\\\\n",
    "&=\\gamma \\left|\\max_{a\\in A}\\sum_{s'\\in S}P_{sa}(s')V_1(s')-\\max_{a\\in A}\\sum_{s'\\in S}P_{sa}(s')V_2(s')\\right|\\\\\n",
    "&\\le \\gamma\\max_{a\\in A}\\left|\\sum_{s'\\in S}P_{sa}(s')V_1(s')-\\sum_{s'\\in S}P_{sa}(s')V_2(s')\\right|\\\\\n",
    "&=\\gamma\\max_{a\\in A}\\left|\\sum_{s'\\in S}P_{sa}(s')(V_1(s')-V_2(s'))\\right|\\\\\n",
    "&\\le \\gamma\\max_{a\\in A}\\sum_{s'\\in S}P_{sa}(s')|V_1(s')-V_2(s')|\\\\\n",
    "&\\le \\gamma\\max_{a\\in A}\\sum_{s'\\in S}P_{sa}(s')\\max_{s'\\in S}|V_1(s')-V_2(s')|\\\\\n",
    "&= \\gamma\\max_{s'\\in S}|V_1(s')-V_2(s')|\\\\\n",
    "&= \\gamma||V_1-V_2||_\\infty.\n",
    "\\end{align*}"
   ]
  },
  {
   "cell_type": "markdown",
   "id": "dbb3b63b",
   "metadata": {},
   "source": [
    "### (b) Bellman update operator has at most one fixed point. "
   ]
  },
  {
   "cell_type": "markdown",
   "id": "24a20a5d",
   "metadata": {},
   "source": [
    "Consider the opposite, suppose there are two fixed points $V_1$ and $V_2$, then\n",
    "\\begin{align*}\n",
    "||V_1-V_2||_\\infty&=||B(V_1)-B(V_2)||_\\infty\\le\\gamma||V_1-V_2||_\\infty.\n",
    "\\end{align*}\n",
    "\n",
    "Since max-norm is non-negative, we have $||V_1-V_2||_\\infty=0$. Thus for $\\forall s \\in S$, $V_1(s)=V_2(s)$. \n",
    "\n",
    "This yields a contradiction. Hence, the fixed point is unique."
   ]
  }
 ],
 "metadata": {
  "language_info": {
   "name": "python"
  }
 },
 "nbformat": 4,
 "nbformat_minor": 5
}
