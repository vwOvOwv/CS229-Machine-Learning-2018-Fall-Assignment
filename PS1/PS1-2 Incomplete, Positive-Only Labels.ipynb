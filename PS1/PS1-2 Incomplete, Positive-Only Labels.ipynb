{
 "cells": [
  {
   "cell_type": "markdown",
   "id": "3b078d3e",
   "metadata": {},
   "source": [
    "# PS1-2 Imcomplete, Positive-Only Labels"
   ]
  },
  {
   "cell_type": "code",
   "execution_count": 101,
   "id": "52157b7f",
   "metadata": {},
   "outputs": [],
   "source": [
    "import numpy as np\n",
    "import src.util as util\n",
    "from src.linear_model import LinearModel\n",
    "from matplotlib import pyplot as plt"
   ]
  },
  {
   "cell_type": "code",
   "execution_count": 102,
   "id": "1f72dc38",
   "metadata": {},
   "outputs": [],
   "source": [
    "# set paths\n",
    "ds3_train_path='./data/ds3_train.csv'\n",
    "ds3_val_path='./data/ds3_valid.csv'\n",
    "ds3_test_path='./data/ds3_test.csv'\n",
    "ps1_2c_pred_path = './output/p02c_pred.txt'\n",
    "ps1_2d_pred_path = './output/p02d_pred.txt'\n",
    "ps1_2e_pred_path = './output/p02e_pred.txt'"
   ]
  },
  {
   "cell_type": "code",
   "execution_count": 103,
   "id": "c94221b6",
   "metadata": {},
   "outputs": [],
   "source": [
    "# load data\n",
    "x_train, t_train = util.load_dataset(ds3_train_path, label_col='t')\n",
    "_, y_train = util.load_dataset(ds3_train_path, label_col='y')\n",
    "\n",
    "x_val, t_val = util.load_dataset(ds3_val_path, label_col='t')\n",
    "_, y_val = util.load_dataset(ds3_val_path, label_col='y')\n",
    "\n",
    "x_test, t_test = util.load_dataset(ds3_test_path, label_col='t')\n",
    "_, y_test = util.load_dataset(ds3_test_path, label_col='y')"
   ]
  },
  {
   "cell_type": "code",
   "execution_count": 104,
   "id": "3c5aac3f",
   "metadata": {},
   "outputs": [],
   "source": [
    "# define acc function\n",
    "def acc(y_pred, label):\n",
    "    \"\"\"Calculate accuracy given predictions and labels.\n",
    "\n",
    "    Args:\n",
    "        y_pred: propabilities predicted by the model. Shape (n, 1).\n",
    "        label: true labels. Shape (n,).\n",
    "\n",
    "    \"\"\"\n",
    "    y_pred = y_pred.reshape(-1)\n",
    "    res = ((y_pred >= 0.5) == (label))\n",
    "    return res[res == True].shape[0] / label.shape[0]"
   ]
  },
  {
   "cell_type": "markdown",
   "id": "96de376f",
   "metadata": {},
   "source": [
    "### (a)"
   ]
  },
  {
   "cell_type": "markdown",
   "id": "f49a7961",
   "metadata": {},
   "source": [
    "Apply chain rule of conditional probability:\n",
    "\n",
    "\\begin{equation}\\notag\n",
    "\\begin{aligned}\n",
    "    P(y^{(i)}=1,t^{(i)}=1,x^{(i)}) &= P(y^{(i)}=1|t^{(i)}=1,x^{(i)})P(t^{(i)}=1|x^{(i)})P(x^{(i)})\\\\\n",
    "    &=P(t^{(i)}=1|y^{(i)}=1,x^{(i)})P(y^{(i)}=1|x^{(i)})P(x^{(i)}).\n",
    "\\end{aligned}\n",
    "\\end{equation}"
   ]
  },
  {
   "cell_type": "markdown",
   "id": "4f91fe11",
   "metadata": {},
   "source": [
    "According to the assumption $P(y^{(i)}=1|t^{(i)}=1,x^{(i)}) = P(y^{(i)}=1|t^{(i)}=1)$ \n",
    "and the fact that $P(t^{(i)}=1|y^{(i)}=1,x^{(i)}) = 1$, we can solve for $P(t^{(i)}=1|x^{(i)})$:\n",
    "\n",
    "\\begin{equation}\\notag\n",
    "P(t^{(i)}=1|x^{(i)}) =\\frac{P(y^{(i)}=1|x^{(i)})}{P(y^{(i)}=1|t^{(i)}=1)}.\n",
    "\\end{equation}"
   ]
  },
  {
   "cell_type": "markdown",
   "id": "dfcb829d",
   "metadata": {},
   "source": [
    "Thus the constant factor $\\alpha = P(y^{(i)}=1|t^{(i)}=1)$, which means the fraction of positive samples that are labeled in all positive samples."
   ]
  },
  {
   "cell_type": "markdown",
   "id": "b48fcab1",
   "metadata": {},
   "source": [
    "### (b)"
   ]
  },
  {
   "cell_type": "markdown",
   "id": "cfa81df4",
   "metadata": {},
   "source": [
    "For all $x^{(i)}\\in V_+$, $h(x^{(i)})\\approx p(y^{(i)}=1|x^{(i)})=\\alpha P(t^{(i)}=1|x^{(i)})=\\alpha$."
   ]
  },
  {
   "cell_type": "markdown",
   "id": "d760461d",
   "metadata": {},
   "source": [
    "### (c) Apply logistic regression on true labels. "
   ]
  },
  {
   "cell_type": "code",
   "execution_count": 105,
   "id": "57781a8c",
   "metadata": {},
   "outputs": [],
   "source": [
    "# copy logistic regression implemented in PS1-1\n",
    "class LogisticRegression(LinearModel):\n",
    "    \"\"\"Logistic regression with Newton's Method as the solver.\n",
    "\n",
    "    Example usage:\n",
    "        > clf = LogisticRegression()\n",
    "        > clf.fit(x_train, y_train)\n",
    "        > clf.predict(x_eval)\n",
    "    \"\"\"\n",
    "\n",
    "    def fit(self, x, y):\n",
    "        \"\"\"Run Newton's Method to minimize J(theta) for logistic regression.\n",
    "\n",
    "        Args:\n",
    "            x: Training example inputs. Shape (m, n).\n",
    "            y: Training example labels. Shape (m,).\n",
    "        \"\"\"\n",
    "        # *** START CODE HERE ***\n",
    "        def h(theta, x):\n",
    "            \"\"\"\n",
    "            Compute hypothesis function $h\\\\_\\\\theta(x) = sigmoid(x\\\\theta)$.\n",
    "            \n",
    "            Args:\n",
    "                theta: model parameters. Shape (n,).\n",
    "                x: Training example inputs. Shape (m, n).\n",
    "\n",
    "            Returns:\n",
    "                $h\\\\_\\\\theta(x)$ of shape (m,)\n",
    "            \"\"\"\n",
    "            return 1 / (1 + np.exp(-np.matmul(x, theta.reshape(-1, 1))))\n",
    "        \n",
    "\n",
    "        def gradient(theta, x, y):\n",
    "            \"\"\"\n",
    "            Compute gradient of $J(\\\\theta)$, i.e., $\\\\nabla\\\\_\\\\thetaJ(\\\\theta)$.\n",
    "\n",
    "            Args:\n",
    "                theta: model parameters. Shape (n,).\n",
    "                x: Training example inputs. Shape (m, n).\n",
    "                y: Training example labels. Shape (m,).\n",
    "\n",
    "            Returns:\n",
    "                Output of shape (n, )\n",
    "            \"\"\"\n",
    "            res = x * (y.reshape(-1, 1) - h(theta, x))\n",
    "            return -res.mean(axis=0)\n",
    "        \n",
    "        def hessian(theta, x):\n",
    "            \"\"\"\n",
    "            Compute Hessian matrix of $J(\\\\theta)$.\n",
    "\n",
    "            Args:\n",
    "                theta: model parameters. Shape (n,).\n",
    "                x: Training example inputs. Shape (m, n).\n",
    "                y: Training example labels. Shape (m,).\n",
    "\n",
    "            Returns:\n",
    "                Output of shape (n, n)\n",
    "            \"\"\"\n",
    "            x1 = x[:, :, np.newaxis]    # shape (m, n, 1)\n",
    "            x2 = x[:, np.newaxis, :]    # shape (m, 1, n)\n",
    "            res = np.matmul(x1, x2) # shape (m, n, n)\n",
    "            prob = h(theta, x)  # shape (m,)\n",
    "            prob = prob.reshape(-1, 1, 1)   # shape (m, 1, 1)\n",
    "            res = res * prob * (1 - prob)\n",
    "            return res.mean(axis=0)\n",
    "        \n",
    "        # run Newton's Method to find theta where grad = 0\n",
    "        # thus minimize J(\\theta)\n",
    "        if self.theta is None:\n",
    "            self.theta = np.zeros(x.shape[1])\n",
    "        grad = gradient(self.theta, x, y)\n",
    "        while(np.max(np.abs(grad)) >= self.eps):\n",
    "            # print('Current gradient of J(theta) is', grad)\n",
    "            # print('Current J(theta) is', -(y * np.log(h(self.theta, x)).squeeze(1) + \\\n",
    "            #                             (1 - y) * np.log(1 - h(self.theta, x)).squeeze(1)).mean())\n",
    "            H = hessian(self.theta, x)\n",
    "            H_inv = np.linalg.inv(H)\n",
    "            self.theta = self.theta - np.matmul(H_inv, grad)\n",
    "            grad = gradient(self.theta, x, y)\n",
    "        # print('gradient of J(\\\\theta) is', grad)\n",
    "        # *** END CODE HERE ***\n",
    "\n",
    "    def predict(self, x):\n",
    "        \"\"\"Make a prediction given new inputs x.\n",
    "\n",
    "        Args:\n",
    "            x: Inputs of shape (m, n).\n",
    "\n",
    "        Returns:\n",
    "            Outputs of shape (m,).\n",
    "        \"\"\"\n",
    "        # *** START CODE HERE ***\n",
    "        return 1 / (1 + np.exp(-np.matmul(x, self.theta.reshape(-1, 1))))\n",
    "        # *** END CODE HERE ***"
   ]
  },
  {
   "cell_type": "code",
   "execution_count": 106,
   "id": "88decf9e",
   "metadata": {},
   "outputs": [],
   "source": [
    "lr_clf = LogisticRegression()\n",
    "lr_x_train = util.add_intercept(x_train)\n",
    "lr_clf.fit(lr_x_train, t_train)"
   ]
  },
  {
   "cell_type": "code",
   "execution_count": 107,
   "id": "a86f24d9",
   "metadata": {},
   "outputs": [],
   "source": [
    "# plot the decision boundary on training set\n",
    "# util.plot(lr_x_train, t_train, lr_clf.theta)"
   ]
  },
  {
   "cell_type": "code",
   "execution_count": 108,
   "id": "5112518e",
   "metadata": {},
   "outputs": [],
   "source": [
    "# test the model\n",
    "lr_x_test = util.add_intercept(x_test)\n",
    "t_test_pred = lr_clf.predict(lr_x_test)\n",
    "np.savetxt(ps1_2c_pred_path, t_test_pred)"
   ]
  },
  {
   "cell_type": "code",
   "execution_count": 109,
   "id": "fb0348f1",
   "metadata": {},
   "outputs": [
    {
     "data": {
      "image/png": "[encoded data removed]",
      "text/plain": [
       "<Figure size 640x480 with 1 Axes>"
      ]
     },
     "metadata": {},
     "output_type": "display_data"
    }
   ],
   "source": [
    "# plot the decision boundary on test set\n",
    "util.plot(lr_x_test, t_test, lr_clf.theta)"
   ]
  },
  {
   "cell_type": "code",
   "execution_count": 110,
   "id": "6ce465ec",
   "metadata": {},
   "outputs": [
    {
     "name": "stdout",
     "output_type": "stream",
     "text": [
      "Accuracy on training set: 0.9632\n",
      "Accuracy on test set: 0.9838709677419355\n"
     ]
    }
   ],
   "source": [
    "# print accuracy on training and test sets\n",
    "print('Accuracy on training set:', acc(lr_clf.predict(lr_x_train), t_train))\n",
    "print('Accuracy on test set:', acc(lr_clf.predict(lr_x_test), t_test))"
   ]
  },
  {
   "cell_type": "markdown",
   "id": "270828b9",
   "metadata": {},
   "source": [
    "Here the classifier models $P(t^{(i)}=1|x^{(i)})$."
   ]
  },
  {
   "cell_type": "markdown",
   "id": "e4279feb",
   "metadata": {},
   "source": [
    "### (d) Train on y-labels and test on true labels"
   ]
  },
  {
   "cell_type": "code",
   "execution_count": 111,
   "id": "5927a864",
   "metadata": {},
   "outputs": [],
   "source": [
    "lr_clf = LogisticRegression()\n",
    "lr_clf.fit(lr_x_train, y_train)"
   ]
  },
  {
   "cell_type": "code",
   "execution_count": 112,
   "id": "793bbe85",
   "metadata": {},
   "outputs": [],
   "source": [
    "# plot the decision boundary on training set\n",
    "# util.plot(lr_x_train, y_train, lr_clf.theta)"
   ]
  },
  {
   "cell_type": "code",
   "execution_count": 113,
   "id": "50bc8e08",
   "metadata": {},
   "outputs": [],
   "source": [
    "# test the model\n",
    "lr_x_test = util.add_intercept(x_test)\n",
    "t_test_pred = lr_clf.predict(lr_x_test)\n",
    "np.savetxt(ps1_2d_pred_path, t_test_pred)"
   ]
  },
  {
   "cell_type": "code",
   "execution_count": 114,
   "id": "09b4f960",
   "metadata": {},
   "outputs": [
    {
     "data": {
      "image/png": "[encoded data removed]",
      "text/plain": [
       "<Figure size 640x480 with 1 Axes>"
      ]
     },
     "metadata": {},
     "output_type": "display_data"
    }
   ],
   "source": [
    "# plot the decision boundary on test set\n",
    "util.plot(lr_x_test, t_test, lr_clf.theta)"
   ]
  },
  {
   "cell_type": "code",
   "execution_count": 115,
   "id": "e4b1c585",
   "metadata": {},
   "outputs": [
    {
     "name": "stdout",
     "output_type": "stream",
     "text": [
      "Accuracy on training set (with y-labels): 0.9\n",
      "Accuracy on training set (with true-labels): 0.5\n",
      "Accuracy on test set: 0.5\n"
     ]
    }
   ],
   "source": [
    "# print accuracy on training and test sets\n",
    "print('Accuracy on training set (with y-labels):', acc(lr_clf.predict(lr_x_train), y_train))\n",
    "print('Accuracy on training set (with true-labels):', acc(lr_clf.predict(lr_x_train), t_train))\n",
    "print('Accuracy on test set:', acc(lr_clf.predict(lr_x_test), t_test))"
   ]
  },
  {
   "cell_type": "markdown",
   "id": "d026baae",
   "metadata": {},
   "source": [
    "Here the classifier models $P(y^{(i)}=1|x^{(i)})$. We have proved that $P(y^{(i)}=1|x^{(i)}) = \\alpha$ for all $x^{(i)}\\in V_+$, so the classifier will predict $\\alpha$ for all $x^{(i)}\\in V_+$. We can use the validation set to compute $\\alpha$ and thus correct probabilities given out by models trained on training set."
   ]
  },
  {
   "cell_type": "markdown",
   "id": "04bc1859",
   "metadata": {},
   "source": [
    "### (e)  Apply correction factor using validation set and test on true labels"
   ]
  },
  {
   "cell_type": "code",
   "execution_count": 116,
   "id": "ee671f0e",
   "metadata": {},
   "outputs": [],
   "source": [
    "lr_clf = LogisticRegression()\n",
    "lr_clf.fit(lr_x_train, y_train)\n",
    "# Now the classifier still models $P(y^{(i)}=1|x^{(i)})$"
   ]
  },
  {
   "cell_type": "code",
   "execution_count": 117,
   "id": "0e2d9b77",
   "metadata": {},
   "outputs": [],
   "source": [
    "# compute correction term \\alpha\n",
    "x_val_input = x_val[y_val == 1] # $V_+$\n",
    "lr_x_val_input = util.add_intercept(x_val_input)\n",
    "alpha = np.mean(lr_clf.predict(lr_x_val_input), axis=0)"
   ]
  },
  {
   "cell_type": "code",
   "execution_count": 118,
   "id": "7e0b1594",
   "metadata": {},
   "outputs": [
    {
     "data": {
      "text/plain": [
       "array([0.1717465])"
      ]
     },
     "execution_count": 118,
     "metadata": {},
     "output_type": "execute_result"
    }
   ],
   "source": [
    "alpha"
   ]
  },
  {
   "cell_type": "code",
   "execution_count": 119,
   "id": "256f830f",
   "metadata": {},
   "outputs": [],
   "source": [
    "t_test_pred = lr_clf.predict(lr_x_test) / alpha\n",
    "# After correction the model gives out $P(t^{(i)}=1|x^{(i)})$"
   ]
  },
  {
   "cell_type": "code",
   "execution_count": 120,
   "id": "eca842ba",
   "metadata": {},
   "outputs": [
    {
     "name": "stdout",
     "output_type": "stream",
     "text": [
      "Accuracy on test set: 0.9516129032258065\n"
     ]
    }
   ],
   "source": [
    "# compute accuracy on test set\n",
    "print('Accuracy on test set:', acc(t_test_pred, t_test))"
   ]
  },
  {
   "cell_type": "markdown",
   "id": "87f57333",
   "metadata": {},
   "source": [
    "Finally, we plot the decision boundary after correction on test set. To achieve this, we find the new $\\theta$ after correction by solving the equation defined by the decision boundary \n",
    "\n",
    "$$\\frac{1}{\\alpha} \\frac{1}{1 + \\exp(- \\theta^T x)} = \\frac{1}{2}.$$\n",
    "\n",
    "By simplifying the equation, we get \n",
    "\n",
    "$$\\theta^Tx+\\ln\\left(\\frac{2}{\\alpha}-1\\right)=0.$$"
   ]
  },
  {
   "cell_type": "markdown",
   "id": "c2d9d8e8",
   "metadata": {},
   "source": [
    "Since we add intercept to $x$'s first column, thus we can directly add $\\ln\\left(\\frac{2}{\\alpha}-1\\right)$ to $\\theta _0$."
   ]
  },
  {
   "cell_type": "code",
   "execution_count": 121,
   "id": "1194d0e9",
   "metadata": {},
   "outputs": [
    {
     "data": {
      "image/png": "[encoded data removed]",
      "text/plain": [
       "<Figure size 640x480 with 1 Axes>"
      ]
     },
     "metadata": {},
     "output_type": "display_data"
    }
   ],
   "source": [
    "# plot the decision boundary before correction on test set\n",
    "util.plot(lr_x_test, t_test, lr_clf.theta)"
   ]
  },
  {
   "cell_type": "code",
   "execution_count": 126,
   "id": "b8ae5fb1",
   "metadata": {},
   "outputs": [
    {
     "name": "stderr",
     "output_type": "stream",
     "text": [
      "/tmp/ipykernel_4072444/3545588039.py:3: DeprecationWarning: Conversion of an array with ndim > 0 to a scalar is deprecated, and will error in future. Ensure you extract a single element from your array before performing this operation. (Deprecated NumPy 1.25.)\n",
      "  corrected_theta[0] += np.log(2 / alpha - 1)\n"
     ]
    },
    {
     "data": {
      "image/png": "[encoded data removed]",
      "text/plain": [
       "<Figure size 640x480 with 1 Axes>"
      ]
     },
     "metadata": {},
     "output_type": "display_data"
    }
   ],
   "source": [
    "# plot the decision boundary after correction on test set\n",
    "corrected_theta = lr_clf.theta.copy()\n",
    "corrected_theta[0] += np.log(2 / alpha - 1)\n",
    "util.plot(lr_x_test, t_test, corrected_theta)"
   ]
  },
  {
   "cell_type": "markdown",
   "id": "42febf0b",
   "metadata": {},
   "source": [
    "Therefore, the correction we made is just translating the decidion boundary."
   ]
  }
 ],
 "metadata": {
  "kernelspec": {
   "display_name": "ann_snn_ei",
   "language": "python",
   "name": "python3"
  },
  "language_info": {
   "codemirror_mode": {
    "name": "ipython",
    "version": 3
   },
   "file_extension": ".py",
   "mimetype": "text/x-python",
   "name": "python",
   "nbconvert_exporter": "python",
   "pygments_lexer": "ipython3",
   "version": "3.12.10"
  }
 },
 "nbformat": 4,
 "nbformat_minor": 5
}
