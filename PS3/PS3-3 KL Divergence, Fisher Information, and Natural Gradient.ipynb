{
 "cells": [
  {
   "cell_type": "markdown",
   "id": "1ed4dee0",
   "metadata": {},
   "source": [
    "# PS3-3 KL Divergence, Fisher Information, and Natural Gradient"
   ]
  },
  {
   "cell_type": "markdown",
   "id": "e9351abe",
   "metadata": {},
   "source": [
    "> Notation: $p(y;\\theta)$ is equivalent to $p_{\\theta}(y)$."
   ]
  },
  {
   "cell_type": "markdown",
   "id": "a71cfa08",
   "metadata": {},
   "source": [
    "### (a) Score Function"
   ]
  },
  {
   "cell_type": "markdown",
   "id": "2f56d10a",
   "metadata": {},
   "source": [
    "\\begin{align*}\n",
    "&\\mathbb E_{y\\sim p(y;\\theta)}\\left[\\nabla_{\\theta'}\\log p(y;\\theta')\\left|\\right._{\\theta'=\\theta}\\right]\\\\\n",
    "=&\\int_{-\\infty}^{+\\infty}p(y;\\theta)\\nabla_{\\theta'}\\log p(y;\\theta')\\left|\\right._{\\theta'=\\theta}\\text dy\\\\\n",
    "=&\\int_{-\\infty}^{+\\infty}p(y;\\theta)\\frac{1}{p(y;\\theta)}\\nabla_{\\theta'}p(y;\\theta')\\left|\\right._{\\theta'=\\theta}\\text dy\\\\\n",
    "=&\\int_{-\\infty}^{+\\infty}\\nabla_{\\theta'}p(y;\\theta')\\left|\\right._{\\theta'=\\theta}\\text dy\\\\\n",
    "=&\\nabla_{\\theta'}\\left.\\int_{-\\infty}^{+\\infty}p(y;\\theta')\\text dy\\right|_{\\theta'=\\theta}\\\\\n",
    "=&\\nabla_{\\theta'}1|_{\\theta'=\\theta}\\\\\n",
    "=&0.\n",
    "\\end{align*}"
   ]
  },
  {
   "cell_type": "markdown",
   "id": "0f2a6b30",
   "metadata": {},
   "source": [
    "### (b) Fisher Information"
   ]
  },
  {
   "cell_type": "markdown",
   "id": "af6f3897",
   "metadata": {},
   "source": [
    "Note that for a random vector $X$,\n",
    "\n",
    "$$\\text{Cov}[X]=\\mathbb E\\left[(X-\\mathbb E[X])(X-\\mathbb E[X])^T\\right].$$\n",
    "\n",
    "And from (a) we know $\\mathbb E_{y\\sim p(y;\\theta)}\\left[\\nabla_{\\theta'}\\log p(y;\\theta')\\left|\\right._{\\theta'=\\theta}\\right]=0$.\n",
    "\n",
    "Therefore,\n",
    "\n",
    "\\begin{align*}\n",
    "\\mathcal I(\\theta)&=\\text{Cov}_{y\\sim p(y;\\theta)}\\left[\\nabla_{\\theta'}\\log p(y;\\theta')|_{\\theta'=\\theta}\\right]\\\\\n",
    "&=\\mathbb E_{y\\sim p(y;\\theta)}\\left[\\nabla_{\\theta'}\\log p(y;\\theta')\\nabla_{\\theta'}\\log p(y;\\theta')^T\\left|\\right._{\\theta'=\\theta}\\right].\n",
    "\\end{align*}"
   ]
  },
  {
   "cell_type": "markdown",
   "id": "ea559337",
   "metadata": {},
   "source": [
    "### (c) Fisher Information (alternate form)"
   ]
  },
  {
   "cell_type": "markdown",
   "id": "222b77ba",
   "metadata": {},
   "source": [
    "\\begin{align*}\n",
    "&\\mathbb E_{y\\sim p(y;\\theta)}\\left[-\\nabla_{\\theta'}^2\\log p(y;\\theta')|_{\\theta'=\\theta}\\right]\\\\\n",
    "=&\\int_{-\\infty}^{+\\infty}p(y;\\theta)\\left(-\\nabla_{\\theta'}^2\\log p(y;\\theta')\\right)\\left|\\right._{\\theta'=\\theta}\\text dy\\\\\n",
    "=&-\\int_{-\\infty}^{+\\infty}p(y;\\theta)\\nabla_{\\theta'}\\left.\\frac{\\nabla_{\\theta'}p(y;\\theta')}{p(y;\\theta')}\\right|_{\\theta'=\\theta}\\text dy\\\\\n",
    "=&-\\int_{-\\infty}^{+\\infty}p(y;\\theta)\\left.\\frac{p(y;\\theta')\\nabla_{\\theta'}^2p(y;\\theta')-\\nabla_{\\theta'}p(y;\\theta')\\nabla_{\\theta'}p(y;\\theta')^T}{p^2(y;\\theta')}\\right|_{\\theta'=\\theta}\\text dy\\\\\n",
    "=&-\\int_{-\\infty}^{+\\infty}\\nabla_{\\theta'}^2p(y;\\theta')|_{\\theta'=\\theta}\\text dy + \\int_{-\\infty}^{+\\infty}\\left.\\frac{\\nabla_{\\theta'}p(y;\\theta')\\nabla_{\\theta'}p(y;\\theta')^T}{p(y;\\theta')}\\right|_{\\theta'=\\theta}\\text dy\\\\\n",
    "=&-\\nabla_{\\theta'}^2\\left.\\int_{-\\infty}^{+\\infty}p(y;\\theta')\\text dy\\right|_{\\theta'=\\theta} + \\int_{-\\infty}^{+\\infty}p(y;\\theta)\\nabla_{\\theta'}\\log p(y;\\theta')\\nabla_{\\theta'}\\log p(y;\\theta')^T|_{\\theta'=\\theta}\\text dy\\\\\n",
    "=& 0+\\text{Cov}_{y\\sim p(y;\\theta)}\\left[\\nabla_{\\theta'}\\log p(y;\\theta')|_{\\theta'=\\theta}\\right]\\\\\n",
    "=& \\mathcal I(\\theta).\n",
    "\\end{align*}"
   ]
  },
  {
   "cell_type": "markdown",
   "id": "8dcee627",
   "metadata": {},
   "source": [
    "### (d) Approximating $D_{\\text{KL}}$ with Fisher Information"
   ]
  },
  {
   "cell_type": "markdown",
   "id": "49435693",
   "metadata": {},
   "source": [
    "\\begin{align*}\n",
    "D_{\\text{KL}}(p_{\\theta}||p_{\\theta+d})&=\\int_{-\\infty}^{+\\infty}p_{\\theta}(y)\\log\\frac{p_{\\theta}(y)}{p_{\\theta+d}(y)}\\text dy\\\\\n",
    "&=\\int_{-\\infty}^{+\\infty}p_{\\theta}(y)\\left[\\log p_{\\theta}(y) - \\log p_{\\theta+d}(y)\\right]\\text dy.\n",
    "\\end{align*}\n",
    "\n",
    "Since $p_{\\theta+d}$ is parameterized by $\\theta+d$, by using Tayler series expansion we have:\n",
    "\n",
    "\\begin{align*}\n",
    "\\log p_{\\theta+d}(y)\\approx\\log p_{\\theta}(y)+d^T\\nabla_{\\theta'}\\log p_{\\theta'}(y)|_{\\theta'=\\theta}+\\frac{1}{2}d^T\\nabla_{\\theta'}^2\\log p_{\\theta'}(y)|_{\\theta'=\\theta}d.\n",
    "\\end{align*}\n",
    "\n",
    "Thus,\n",
    "\n",
    "\\begin{align*}\n",
    "D_{\\text{KL}}(p_{\\theta}||p_{\\theta+d})&\\approx-\\int_{-\\infty}^{+\\infty}p_{\\theta}(y)\\left[d^T\\nabla_{\\theta'}\\log p_{\\theta'}(y)|_{\\theta'=\\theta}+\\frac{1}{2}d^T\\nabla_{\\theta'}^2\\log p_{\\theta'}(y)|_{\\theta'=\\theta}d\\right]\\text dy\\\\\n",
    "&=-\\int_{-\\infty}^{+\\infty}p_{\\theta}(y)d^T\\nabla_{\\theta'}\\log p_{\\theta'}(y)|_{\\theta'=\\theta}\\text dy-\\int_{-\\infty}^{+\\infty}p_{\\theta}(y) \\frac{1}{2}d^T\\nabla_{\\theta'}^2\\log p_{\\theta'}(y)|_{\\theta'=\\theta}d\\text dy\\\\\n",
    "&=-d^T\\int_{-\\infty}^{+\\infty}p_{\\theta}(y)\\nabla_{\\theta'}\\log p_{\\theta'}(y)|_{\\theta'=\\theta}\\text dy+\\frac{1}{2}d^T\\left[\\int_{-\\infty}^{+\\infty}p_{\\theta}(y)\\left(-\\nabla_{\\theta'}^2\\log p_{\\theta'}(y)|_{\\theta'=\\theta}\\right)\\text dy\\right]d.\n",
    "\\end{align*}\n",
    "\n",
    "From (a) and (c) we know the first term is 0 and the second term is $\\frac{1}{2}d^T\\mathcal I(\\theta)d$. Therefore, \n",
    "\n",
    "$$D_{\\text{KL}}(p_{\\theta}||p_{\\theta+d})\\approx\\frac{1}{2}d^T\\mathcal I(\\theta)d.$$"
   ]
  },
  {
   "cell_type": "markdown",
   "id": "3555c264",
   "metadata": {},
   "source": [
    "### (e) Natural Gradient"
   ]
  },
  {
   "cell_type": "markdown",
   "id": "93066974",
   "metadata": {},
   "source": [
    "##### Construct the Lagrangian."
   ]
  },
  {
   "cell_type": "markdown",
   "id": "824c34f1",
   "metadata": {},
   "source": [
    "The raw Lagrangian is\n",
    "\n",
    "$$\\mathcal L(d,\\lambda)=l(\\theta+d)-\\lambda\\left[D_{\\text{KL}}(p_\\theta||p_{\\theta+d})-c\\right].$$\n",
    "\n",
    "From Taylor Series Expansion we have\n",
    "\n",
    "\\begin{align*}\n",
    "&l(\\theta+d)\\approx l(\\theta)+d^T\\nabla_{\\theta'}l(\\theta')|_{\\theta'=\\theta}\\\\\n",
    "&D_{\\text{KL}}(p_{\\theta}||p_{\\theta+d})\\approx\\frac{1}{2}d^T\\mathcal I(\\theta)d.\n",
    "\\end{align*}\n",
    "\n",
    "Thus, the approximated Lagrangian is\n",
    "\n",
    "$$\\mathcal L(d,\\lambda)\\approx l(\\theta)+d^T\\nabla_{\\theta'}l(\\theta')|_{\\theta'=\\theta}-\\lambda\\left[\\frac{1}{2}d^T\\mathcal I(\\theta)d-c\\right].$$"
   ]
  },
  {
   "cell_type": "markdown",
   "id": "9f6be003",
   "metadata": {},
   "source": [
    "##### Construct linear equations."
   ]
  },
  {
   "cell_type": "markdown",
   "id": "971eb40e",
   "metadata": {},
   "source": [
    "Set the derivatives to 0:\n",
    "\n",
    "\\begin{align*}\n",
    "\\nabla_d\\mathcal L(d,\\lambda)=0\\\\\n",
    "\\nabla_\\lambda\\mathcal L(d,\\lambda)=0\n",
    "\\end{align*}\n",
    "\n",
    "and we can obtain:\n",
    "\n",
    "\\begin{align*}\n",
    "&\\nabla_{\\theta'}l(\\theta')|_{\\theta'=\\theta}-\\lambda\\mathcal I(\\theta)d=0&\\text{(a)}\\\\\n",
    "&\\frac{1}{2}d^T\\mathcal I(\\theta)d-c=0&\\text{(b)}\n",
    "\\end{align*}"
   ]
  },
  {
   "cell_type": "markdown",
   "id": "1e5f28a8",
   "metadata": {},
   "source": [
    "##### Solve for expression for $d$ that involves $\\lambda$."
   ]
  },
  {
   "cell_type": "markdown",
   "id": "cb776702",
   "metadata": {},
   "source": [
    "From Eq.(a) we get\n",
    "\n",
    "\\begin{align*}\n",
    "\\tilde d=d(\\lambda)&=\\frac{1}{\\lambda}\\mathcal I^{-1}(\\theta)\\nabla_{\\theta'}l(\\theta')|_{\\theta'=\\theta}\\\\\n",
    "&=\\frac{1}{\\lambda}\\mathcal I^{-1}(\\theta)\\frac{\\nabla_{\\theta'}p_{\\theta'}(y)|_{\\theta'=\\theta}}{p_{\\theta}(y)}.\n",
    "\\end{align*}"
   ]
  },
  {
   "cell_type": "markdown",
   "id": "dce2ab2a",
   "metadata": {},
   "source": [
    "##### Plugin $d(\\lambda)$ into (b)."
   ]
  },
  {
   "cell_type": "markdown",
   "id": "7cb58511",
   "metadata": {},
   "source": [
    "Plugin $d(\\lambda)$ into $d^T\\mathcal I(\\theta)d$:\n",
    "\n",
    "\\begin{align*}\n",
    "d^T\\mathcal I(\\theta)d&=\\frac{1}{\\lambda^2}\\left[\\mathcal I^{-1}(\\theta)\\nabla_{\\theta'}l(\\theta')|_{\\theta'=\\theta}\\right]^T\\mathcal I(\\theta)\\left[\\mathcal I^{-1}(\\theta)\\nabla_{\\theta'}l(\\theta')|_{\\theta'=\\theta}\\right].\n",
    "\\end{align*}\n",
    "\n",
    "Note that $\\mathcal I(\\theta)$ is a symmetric matrix, thus\n",
    "\n",
    "\\begin{align*}\n",
    "d^T\\mathcal I(\\theta)d&=\\frac{1}{\\lambda^2}\\nabla_{\\theta'}l(\\theta')|_{\\theta'=\\theta}^T\\mathcal I^{-1}(\\theta)\\nabla_{\\theta'}l(\\theta')|_{\\theta'=\\theta}.\n",
    "\\end{align*}\n",
    "\n",
    "From (b) we know\n",
    "\n",
    "\\begin{align*}\n",
    "\\lambda&=\\sqrt{\\frac{\\nabla_{\\theta'}l(\\theta')|_{\\theta'=\\theta}^T\\mathcal I^{-1}(\\theta)\\nabla_{\\theta'}l(\\theta')|_{\\theta'=\\theta}}{2c}}\\\\\n",
    "&=\\frac{1}{p_{\\theta}(y)}\\sqrt{\\frac{\\nabla_{\\theta'}p_{\\theta'}(y)|_{\\theta'=\\theta}^T\\mathcal I^{-1}(\\theta)\\nabla_{\\theta'}p_{\\theta'}(y)|_{\\theta'=\\theta}}{2c}}.\n",
    "\\end{align*}"
   ]
  },
  {
   "cell_type": "markdown",
   "id": "5fd13c68",
   "metadata": {},
   "source": [
    "##### Plugin expression of $\\lambda$ back into $\\tilde d$."
   ]
  },
  {
   "cell_type": "markdown",
   "id": "99cf7d74",
   "metadata": {},
   "source": [
    "\\begin{align*}\n",
    "d^*=\\sqrt{\\frac{2c}{\\nabla_{\\theta'}p_{\\theta'}(y)|_{\\theta'=\\theta}^T\\mathcal I^{-1}(\\theta)\\nabla_{\\theta'}p_{\\theta'}(y)|_{\\theta'=\\theta}}}\\mathcal I^{-1}(\\theta)\\nabla_{\\theta'}p_{\\theta'}(y)|_{\\theta'=\\theta}.\n",
    "\\end{align*}"
   ]
  },
  {
   "cell_type": "markdown",
   "id": "d5f783af",
   "metadata": {},
   "source": [
    "### (f) Relation to Newton’s Method"
   ]
  },
  {
   "cell_type": "markdown",
   "id": "6c91195f",
   "metadata": {},
   "source": [
    "From (e) we know the update direction given by Natural Gradient is\n",
    "\n",
    "$$\\mathcal I^{-1}(\\theta)\\nabla_{\\theta'}l(\\theta')|_{\\theta'=\\theta},$$\n",
    "\n",
    "while by Newton's Method it's given by\n",
    "\n",
    "$$-H^{-1}(\\theta)\\nabla_{\\theta'}l(\\theta')|_{\\theta'=\\theta},$$\n",
    "\n",
    "where $H(\\theta)$ is the Hessian of $l(\\theta)$ and $l(\\theta)$ is log-likelihood.\n",
    "\n",
    "From (c) we have\n",
    "\n",
    "\\begin{align*}\n",
    "\\mathcal I(\\theta)&=\\mathbb E_{y\\sim p_{\\theta}(y)}\\left[-\\nabla_{\\theta'}^2l(\\theta')|_{\\theta'=\\theta}\\right]\\\\\n",
    "&=-\\mathbb E_{y\\sim p_{\\theta}(y)}\\left[H(\\theta)\\right].\n",
    "\\end{align*}\n",
    "\n",
    "In GLM, $p_\\theta(y)$ belongs to exponential family and from PS1-4 we know \n",
    "\n",
    "$$H(\\theta)_{jk} = -\\sum_{i=1}^m a''(\\theta^T x^{(i)}) x_j^{(i)} x_k^{(i)}.$$\n",
    "\n",
    "Thus $H(\\theta)$ is independent from $y$ and $\\mathbb E_{y\\sim p_{\\theta}(y)}\\left[H(\\theta)\\right]=H(\\theta)$. I.e.,\n",
    "\n",
    "$$\\mathcal I(\\theta)=-H(\\theta).$$\n",
    "\n",
    "and $$\\mathcal I^{-1}(\\theta)=-H^{-1}(\\theta)$$\n",
    "\n",
    "Therefore, the directions of updates given by two methods are exactly the same."
   ]
  }
 ],
 "metadata": {
  "language_info": {
   "name": "python"
  }
 },
 "nbformat": 4,
 "nbformat_minor": 5
}
