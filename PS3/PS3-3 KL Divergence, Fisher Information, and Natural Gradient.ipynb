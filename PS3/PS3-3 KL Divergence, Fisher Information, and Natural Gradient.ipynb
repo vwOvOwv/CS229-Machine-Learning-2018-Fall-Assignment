{
 "cells": [
  {
   "cell_type": "markdown",
   "id": "1ed4dee0",
   "metadata": {},
   "source": [
    "# PS3-3 KL Divergence, Fisher Information, and Natural Gradient"
   ]
  },
  {
   "cell_type": "markdown",
   "id": "a71cfa08",
   "metadata": {},
   "source": [
    "### (a) Score Function"
   ]
  },
  {
   "cell_type": "markdown",
   "id": "2f56d10a",
   "metadata": {},
   "source": [
    "\\begin{align*}\n",
    "&\\mathbb E_{y\\sim p(y;\\theta)}\\left[\\nabla_{\\theta'}\\log p(y;\\theta')\\left|\\right._{\\theta'=\\theta}\\right]\\\\\n",
    "=&\\int_{-\\infty}^{+\\infty}p(y;\\theta)\\nabla_{\\theta'}\\log p(y;\\theta')\\left|\\right._{\\theta'=\\theta}\\text dy\\\\\n",
    "=&\\int_{-\\infty}^{+\\infty}p(y;\\theta)\\frac{1}{p(y;\\theta)}\\nabla_{\\theta'}p(y;\\theta')\\left|\\right._{\\theta'=\\theta}\\text dy\\\\\n",
    "=&\\int_{-\\infty}^{+\\infty}\\nabla_{\\theta'}p(y;\\theta')\\left|\\right._{\\theta'=\\theta}\\text dy\\\\\n",
    "=&\\nabla_{\\theta'}\\left.\\int_{-\\infty}^{+\\infty}p(y;\\theta')\\text dy\\right|_{\\theta'=\\theta}\\\\\n",
    "=&\\nabla_{\\theta'}1|_{\\theta'=\\theta}\\\\\n",
    "=&0.\n",
    "\\end{align*}"
   ]
  },
  {
   "cell_type": "markdown",
   "id": "0f2a6b30",
   "metadata": {},
   "source": [
    "### (b) Fisher Information"
   ]
  },
  {
   "cell_type": "markdown",
   "id": "af6f3897",
   "metadata": {},
   "source": [
    "Note that for a random vector $X$,\n",
    "\n",
    "$$\\text{Cov}[X]=\\mathbb E\\left[(X-\\mathbb E[X])(X-\\mathbb E[X])^T\\right].$$\n",
    "\n",
    "And from (a) we know $\\mathbb E_{y\\sim p(y;\\theta)}\\left[\\nabla_{\\theta'}\\log p(y;\\theta')\\left|\\right._{\\theta'=\\theta}\\right]=0$.\n",
    "\n",
    "Therefore,\n",
    "\n",
    "\\begin{align*}\n",
    "\\mathcal I(\\theta)&=\\text{Cov}_{y\\sim p(y;\\theta)}\\left[\\nabla_{\\theta'}\\log p(y;\\theta')|_{\\theta'=\\theta}\\right]\\\\\n",
    "&=\\mathbb E_{y\\sim p(y;\\theta)}\\left[\\nabla_{\\theta'}\\log p(y;\\theta')\\nabla_{\\theta'}\\log p(y;\\theta')^T\\left|\\right._{\\theta'=\\theta}\\right]\n",
    "\\end{align*}"
   ]
  },
  {
   "cell_type": "markdown",
   "id": "ea559337",
   "metadata": {},
   "source": [
    "### (c) Fisher Information (alternate form)"
   ]
  },
  {
   "cell_type": "markdown",
   "id": "222b77ba",
   "metadata": {},
   "source": [
    "\\begin{align*}\n",
    "&\\mathbb E_{y\\sim p(y;\\theta)}\\left[-\\nabla_{\\theta'}^2\\log p(y;\\theta')|_{\\theta'=\\theta}\\right]\\\\\n",
    "=&\\int_{-\\infty}^{+\\infty}p(y;\\theta)\\left(-\\nabla_{\\theta'}^2\\log p(y;\\theta')\\right)\\left|\\right._{\\theta'=\\theta}\\text dy\\\\\n",
    "=&-\\int_{-\\infty}^{+\\infty}p(y;\\theta)\\nabla_{\\theta'}\\left.\\frac{\\nabla_{\\theta'}p(y;\\theta')}{p(y;\\theta')}\\right|_{\\theta'=\\theta}\\text dy\\\\\n",
    "=&-\\int_{-\\infty}^{+\\infty}p(y;\\theta)\\left.\\frac{p(y;\\theta')\\nabla_{\\theta'}^2p(y;\\theta')-\\nabla_{\\theta'}p(y;\\theta')\\nabla_{\\theta'}p(y;\\theta')^T}{p^2(y;\\theta')}\\right|_{\\theta'=\\theta}\\text dy\\\\\n",
    "=&-\\int_{-\\infty}^{+\\infty}\\nabla_{\\theta'}^2p(y;\\theta')|_{\\theta'=\\theta}\\text dy + \\int_{-\\infty}^{+\\infty}\\left.\\frac{\\nabla_{\\theta'}p(y;\\theta')\\nabla_{\\theta'}p(y;\\theta')^T}{p(y;\\theta')}\\right|_{\\theta'=\\theta}\\text dy\\\\\n",
    "=&-\\nabla_{\\theta'}^2\\left.\\int_{-\\infty}^{+\\infty}p(y;\\theta')\\text dy\\right|_{\\theta'=\\theta} + \\int_{-\\infty}^{+\\infty}p(y;\\theta)\\nabla_{\\theta'}\\log p(y;\\theta')\\nabla_{\\theta'}\\log p(y;\\theta')^T|_{\\theta'=\\theta}\\text dy\\\\\n",
    "=& 0+\\text{Cov}_{y\\sim p(y;\\theta)}\\left[\\nabla_{\\theta'}\\log p(y;\\theta')|_{\\theta'=\\theta}\\right]\\\\\n",
    "=& \\mathcal I(\\theta)\n",
    "\\end{align*}"
   ]
  },
  {
   "cell_type": "markdown",
   "id": "8dcee627",
   "metadata": {},
   "source": [
    "### (d) Approximating $D_{\\text{KL}}$ with Fisher Information"
   ]
  },
  {
   "cell_type": "markdown",
   "id": "3555c264",
   "metadata": {},
   "source": [
    "### (e) Natural Gradient"
   ]
  },
  {
   "cell_type": "markdown",
   "id": "d5f783af",
   "metadata": {},
   "source": [
    "### (f) Relation to Newton’s Method"
   ]
  }
 ],
 "metadata": {
  "language_info": {
   "name": "python"
  }
 },
 "nbformat": 4,
 "nbformat_minor": 5
}
